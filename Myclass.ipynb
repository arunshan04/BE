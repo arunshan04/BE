{
 "cells": [
  {
   "cell_type": "code",
   "execution_count": 336,
   "metadata": {},
   "outputs": [
    {
     "name": "stdout",
     "output_type": "stream",
     "text": [
      "ddddfddd {'New': 'Test3'} 0\n",
      "Data File size is ok ..219\n",
      "Created key Value Pair for .....DDDDFDDD\n"
     ]
    }
   ],
   "source": [
    "import pandas as pd\n",
    "import tempfile\n",
    "import json\n",
    "import datetime\n",
    "import sys\n",
    "import os\n",
    "\n",
    "class MyClass:\n",
    "    fileDir='/tmp'\n",
    "    def __init__(self,file=\"\"):\n",
    "        if not file:\n",
    "            self.file=tempfile.NamedTemporaryFile(suffix='.csv',dir=self.fileDir,delete=False).name\n",
    "            print(self.file)\n",
    "            print('No Input File Specified Creating Own, Please use '+self.file+' file for read')\n",
    "        else:\n",
    "            self.file=file\n",
    "\n",
    "    def _create(self,key,value,_tot=0):\n",
    "        print(key,value,_tot)\n",
    "        key=key.upper()[0:32]\n",
    "        try:\n",
    "            size=os.stat(self.file).st_size\n",
    "            if size >(1024*1024*1024):\n",
    "                print('Data File Exceeds the Limit... Please choose New ..'+ self.file)\n",
    "                return None\n",
    "            else:\n",
    "                print('Data File size is ok ..'+str(size))\n",
    "        except (pd.errors.EmptyDataError, FileNotFoundError):\n",
    "            pass\n",
    "        except PermissionError:\n",
    "            print('Permission Denied')\n",
    "            return\n",
    "            \n",
    "        try :\n",
    "            df=pd.read_csv(self.file,sep=',' ,names=['key','value','_cts','_tot'],index_col=0,header=None)\n",
    "        except (pd.errors.EmptyDataError, FileNotFoundError):\n",
    "            df=pd.DataFrame(columns=['key','value','_cts','_tot'])\n",
    "        except PermissionError:\n",
    "            print('Permission Denied')\n",
    "            return\n",
    "        if key not in list(df.index):\n",
    "            df=pd.DataFrame([(key,json.dumps(value),datetime.datetime.now().strftime(\"%s\"),_tot)],columns=['key','value','_cts','_tot'])\n",
    "            try: \n",
    "                df.to_csv(self.file, mode='a',index=None,header=None)\n",
    "                print('Created key Value Pair for .....'+key)\n",
    "            except PermissionError:\n",
    "                print('Permission Denied')\n",
    "        else:\n",
    "            print('Key Already Exists  ....'+key)\n",
    "\n",
    "\n",
    "    def _read(self,key):\n",
    "        key=key.upper()[0:32]\n",
    "        try:\n",
    "            df=pd.read_csv(self.file,sep=',' ,names=['key','value','_cts','_tot'],index_col=0,header=None)\n",
    "        except FileNotFoundError:\n",
    "            print('File Not Found')\n",
    "            return None\n",
    "        if key in list(df.index):\n",
    "            if (df.loc[key]['_tot']+df.loc[key]['_cts']>=int(datetime.datetime.now().strftime(\"%s\")) or df.loc[key]['_tot']==0):\n",
    "                print('Value stored '+df.loc[key]['value'])\n",
    "                return json.loads(df.loc[key]['value'])\n",
    "            else:\n",
    "                print('Value stored is Expired',df.loc[key]['_tot']+df.loc[key]['_cts'],int(datetime.datetime.now().strftime(\"%s\")))\n",
    "        else:\n",
    "            print('Key Not Found for Reading ....'+key)\n",
    "\n",
    "    def _delete(self,key):\n",
    "        key=key.upper()[0:32]\n",
    "        try:\n",
    "            df=pd.read_csv(self.file,sep=',' ,names=['key','value','_cts','_tot'],index_col=0,header=None)\n",
    "        except FileNotFoundError:\n",
    "            print('File Not Found')\n",
    "            return None\n",
    "        if key in list(df.index):\n",
    "            if (df.loc[key]['_tot']+df.loc[key]['_cts']>=int(datetime.datetime.now().strftime(\"%s\"))or df.loc[key]['_tot']==0):\n",
    "                df=df.loc[set(df.index) - set([key])]\n",
    "                df.to_csv(self.file, mode='w',header=None)\n",
    "                print('Deleted Key ...'+key)\n",
    "            else:\n",
    "                print('Value stored is Expired',df.loc[key]['_tot']+df.loc[key]['_cts'],int(datetime.datetime.now().strftime(\"%s\")))\n",
    "        else:\n",
    "            print('Key Not Found for Deletion .....'+key)\n",
    "\n",
    "\n",
    "#c=MyClass(file='/tmp/data.csv')\n",
    "#key='ddddfddd'\n",
    "#value=json.loads('{\"New\":\"Test3\"}')\n",
    "#c._create(key,value)\n",
    "#c._read(key)\n",
    "#c._delete(key)\n"
   ]
  },
  {
   "cell_type": "code",
   "execution_count": 294,
   "metadata": {
    "scrolled": false
   },
   "outputs": [],
   "source": [
    "df=pd.read_csv('/tmp/data.csv',sep=',' ,names=['key','value'],index_col=0,header=None)"
   ]
  }
 ],
 "metadata": {
  "kernelspec": {
   "display_name": "Python 3",
   "language": "python",
   "name": "python3"
  },
  "language_info": {
   "codemirror_mode": {
    "name": "ipython",
    "version": 3
   },
   "file_extension": ".py",
   "mimetype": "text/x-python",
   "name": "python",
   "nbconvert_exporter": "python",
   "pygments_lexer": "ipython3",
   "version": "3.6.5"
  }
 },
 "nbformat": 4,
 "nbformat_minor": 2
}
