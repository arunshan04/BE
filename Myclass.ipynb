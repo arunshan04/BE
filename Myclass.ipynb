{
 "cells": [
  {
   "cell_type": "code",
   "execution_count": 123,
   "metadata": {},
   "outputs": [
    {
     "name": "stdout",
     "output_type": "stream",
     "text": [
      "/tmp/tmponbwj5gb.csv\n",
      "No Input File Specified Creating Own, Please use /tmp/tmponbwj5gb.csv file for read\n",
      "InCreating\n",
      "('test', {'New': 'Test'}) /tmp/tmponbwj5gb.csv\n",
      "inreading\n",
      "{'New': 'Test'}\n",
      "In Deleting\n",
      "[{'test'}]\n"
     ]
    }
   ],
   "source": [
    "import pandas as pd\n",
    "import tempfile\n",
    "\n",
    "\n",
    "class MyClass:\n",
    "    fileDir='/tmp'\n",
    "    def __init__(self,file=\"\"):\n",
    "        if not file:\n",
    "            self.file=tempfile.NamedTemporaryFile(suffix='.csv',dir=self.fileDir,delete=False).name\n",
    "            print(self.file)\n",
    "            print('No Input File Specified Creating Own, Please use '+self.file+' file for read')\n",
    "\n",
    "    def _create(self,key,value):\n",
    "        print('InCreating')\n",
    "        try :\n",
    "            df=pd.read_csv(self.file,sep=',' ,names=['key','value'],index_col=['key'],header=None)\n",
    "        except pd.errors.EmptyDataError:\n",
    "            df=pd.DataFrame(columns=['key','value'],index=[key])\n",
    "        if key not in list(df.index):\n",
    "            print((key,value),self.file)\n",
    "            df=pd.DataFrame([(key,value)],columns=['key','value'],index=[key])\n",
    "            df.to_csv(self.file, mode='a',index=['key'],header=None)\n",
    "        else:\n",
    "            print('Key Already Exists')\n",
    "\n",
    "\n",
    "    def _read(self,key):\n",
    "        print('inreading')\n",
    "        df=pd.read_csv(self.file,sep=',' ,names=['key','value'],header=None)\n",
    "        if key in list(df.index):\n",
    "            print(df.loc[key]['value'])\n",
    "        else:\n",
    "            print('Key Not Found')\n",
    "\n",
    "    def _delete(self,key):\n",
    "        print('In Deleting')\n",
    "        df=pd.read_csv(self.file,sep=',' ,names=['key','value'],header=None)\n",
    "        if key in list(df.index):\n",
    "            print([set(df.index) - set([key])])\n",
    "            df=df.loc[set(df.index) - set(key)]\n",
    "            df.to_csv(self.file, mode='a',index=['key'],header=None)\n",
    "        else:\n",
    "            print('Key Not Found')\n",
    "\n",
    "\n",
    "c=MyClass()\n",
    "#/tmp/tmpue7tvju7\n",
    "c._create(key='test',value={'New':'Test'})\n",
    "c._read(key='test')\n",
    "c._delete(key='test')"
   ]
  },
  {
   "cell_type": "code",
   "execution_count": 85,
   "metadata": {
    "scrolled": false
   },
   "outputs": [
    {
     "data": {
      "text/plain": [
       "key    2\n",
       "Name: value, dtype: int64"
      ]
     },
     "execution_count": 85,
     "metadata": {},
     "output_type": "execute_result"
    }
   ],
   "source": [
    "df=pd.DataFrame([(1,2)],columns=['key','value'],index=['key'])\n",
    "df['value']"
   ]
  }
 ],
 "metadata": {
  "kernelspec": {
   "display_name": "Python 3",
   "language": "python",
   "name": "python3"
  },
  "language_info": {
   "codemirror_mode": {
    "name": "ipython",
    "version": 3
   },
   "file_extension": ".py",
   "mimetype": "text/x-python",
   "name": "python",
   "nbconvert_exporter": "python",
   "pygments_lexer": "ipython3",
   "version": "3.6.5"
  }
 },
 "nbformat": 4,
 "nbformat_minor": 2
}
